{
 "cells": [
  {
   "cell_type": "markdown",
   "metadata": {},
   "source": [
    "### Topmentor Assignments - Python (17May2021)"
   ]
  },
  {
   "cell_type": "markdown",
   "metadata": {},
   "source": [
    "#### 1. Simple Message: Store a message in a variable, and then print that message."
   ]
  },
  {
   "cell_type": "code",
   "execution_count": 1,
   "metadata": {},
   "outputs": [
    {
     "name": "stdout",
     "output_type": "stream",
     "text": [
      "Hello world\n"
     ]
    }
   ],
   "source": [
    "var = 'Hello world'\n",
    "print (var)"
   ]
  },
  {
   "cell_type": "markdown",
   "metadata": {},
   "source": [
    "#### 2. Store a message in a variable and print that message. Then change the value of your variable to a new message and print the new message."
   ]
  },
  {
   "cell_type": "code",
   "execution_count": 3,
   "metadata": {},
   "outputs": [
    {
     "name": "stdout",
     "output_type": "stream",
     "text": [
      "Hello world\n",
      "Hello everyone\n"
     ]
    }
   ],
   "source": [
    "var = 'Hello world'\n",
    "print (var)\n",
    "var = 'Hello everyone'\n",
    "print (var)"
   ]
  },
  {
   "cell_type": "markdown",
   "metadata": {},
   "source": [
    "#### 3. Store a person’s name in a variable and print a message to that person. Your message should be simple, such as, “Hello Eric, would you like to learn some Python today?”"
   ]
  },
  {
   "cell_type": "code",
   "execution_count": 4,
   "metadata": {},
   "outputs": [
    {
     "name": "stdout",
     "output_type": "stream",
     "text": [
      "Hello Eric, would you like to learn some python today ?\n"
     ]
    }
   ],
   "source": [
    "person = 'Eric'\n",
    "print(f'Hello {person}, would you like to learn some python today ?')"
   ]
  },
  {
   "cell_type": "markdown",
   "metadata": {},
   "source": [
    "#### 4. Find a quote from a famous person you admire. Print the quote and the name of its author. Your output should look something like the following, including the quotation marks: Albert Einstein once said, “A person who never made a mistake never tried anything new.”"
   ]
  },
  {
   "cell_type": "code",
   "execution_count": 5,
   "metadata": {},
   "outputs": [
    {
     "name": "stdout",
     "output_type": "stream",
     "text": [
      "Albert Einstein once said, \"A person who never made a mistake never tried anything new.\"\n"
     ]
    }
   ],
   "source": [
    "\n",
    "famous_person = 'Albert Einstein'\n",
    "print('{0} once said, \"A person who never made a mistake never tried anything new.\"'.format(famous_person))"
   ]
  },
  {
   "cell_type": "markdown",
   "metadata": {},
   "source": [
    "#### 5. Repeat Exercise 4, but this time store the famous person’s name in a variable called famous_person. Then compose your message and store it in a new variable called message. Print your message."
   ]
  },
  {
   "cell_type": "code",
   "execution_count": 7,
   "metadata": {},
   "outputs": [
    {
     "name": "stdout",
     "output_type": "stream",
     "text": [
      "Hendry ford once said , \" If you think you can do a thing or think you can't do a thing, you're right.\n"
     ]
    }
   ],
   "source": [
    "famous_person ='Hendry ford'\n",
    "Message = 'If you think you can do a thing or think you can\\'t do a thing, you\\'re right.'\n",
    "print('{0} once said , \"'.format(famous_person),Message)"
   ]
  },
  {
   "cell_type": "markdown",
   "metadata": {},
   "source": [
    "#### 6. Write addition, subtraction, multiplication, and division operations that each result in the number 8. Be sure to enclose your operations in print statements to see the results. You should create four lines that look like this: print (5 + 3)\n",
    "#### Your output should simply be four lines with the number 8 appearing once on each line."
   ]
  },
  {
   "cell_type": "code",
   "execution_count": 11,
   "metadata": {},
   "outputs": [
    {
     "name": "stdout",
     "output_type": "stream",
     "text": [
      "8\n",
      "8\n",
      "8\n",
      "8\n"
     ]
    }
   ],
   "source": [
    "print(5+3)\n",
    "print(11-3)\n",
    "print(4*2)\n",
    "print(16//2)"
   ]
  },
  {
   "cell_type": "markdown",
   "metadata": {},
   "source": [
    "#### 7. Store your favourite number in a variable. Then, using that variable, create a message that reveals your favourite number. Print that message."
   ]
  },
  {
   "cell_type": "code",
   "execution_count": 12,
   "metadata": {},
   "outputs": [
    {
     "name": "stdout",
     "output_type": "stream",
     "text": [
      "Your favourite number is 3\n"
     ]
    }
   ],
   "source": [
    "fav_numb = 3\n",
    "print(f'Your favourite number is {fav_numb}')"
   ]
  },
  {
   "cell_type": "markdown",
   "metadata": {},
   "source": [
    "#### 8. Choose two of the programs you’ve written and add at least one comment to each. If you don’t have anything specific to write because your programs are too simple at this point, just add your name and the current date at the top of each program file. Then write one sentence describing what the program does."
   ]
  },
  {
   "cell_type": "code",
   "execution_count": 22,
   "metadata": {},
   "outputs": [
    {
     "name": "stdout",
     "output_type": "stream",
     "text": [
      "Provide 2 numbs space separated 12 14\n"
     ]
    },
    {
     "data": {
      "text/plain": [
       "26"
      ]
     },
     "execution_count": 22,
     "metadata": {},
     "output_type": "execute_result"
    }
   ],
   "source": [
    "# This program adds two user provided numbers by calling a add function\n",
    "# Dhinesh -22/05/2021\n",
    "def add(a):\n",
    "    return(a[0]+a[1])\n",
    "\n",
    "add(list(map(int,input('Provide 2 numbs space separated ').split())))"
   ]
  },
  {
   "cell_type": "markdown",
   "metadata": {},
   "source": [
    "#### 9. Store the names of a few of your friends in a list called names. Print each person’s name by accessing each element in the list, one at a time."
   ]
  },
  {
   "cell_type": "code",
   "execution_count": 26,
   "metadata": {},
   "outputs": [
    {
     "name": "stdout",
     "output_type": "stream",
     "text": [
      "Dhinesh\n",
      "Jayakumar\n",
      "Mani\n",
      "Deva\n",
      "Gayathri\n",
      "Sridhar\n"
     ]
    }
   ],
   "source": [
    "names_list=['Dhinesh','Jayakumar','Mani','Deva','Gayathri','Sridhar']\n",
    "for name in names_list:\n",
    "    print(name)"
   ]
  },
  {
   "cell_type": "markdown",
   "metadata": {},
   "source": [
    "#### 10. Start with the list you used in Exercise 9, but instead of just printing each person’s name, print a message to them. The text of each message should be the same, but each message should be personalized with the person’s name."
   ]
  },
  {
   "cell_type": "code",
   "execution_count": 28,
   "metadata": {},
   "outputs": [
    {
     "name": "stdout",
     "output_type": "stream",
     "text": [
      "Hi Dhinesh, welcome to python world\n",
      "Hi Jayakumar, welcome to python world\n",
      "Hi Mani, welcome to python world\n",
      "Hi Deva, welcome to python world\n",
      "Hi Gayathri, welcome to python world\n",
      "Hi Sridhar, welcome to python world\n"
     ]
    }
   ],
   "source": [
    "names_list=['Dhinesh','Jayakumar','Mani','Deva','Gayathri','Sridhar']\n",
    "for name in names_list:\n",
    "    print(f\"Hi {name}, welcome to python world\")"
   ]
  },
  {
   "cell_type": "markdown",
   "metadata": {},
   "source": [
    "##### 11. Think of your favourite mode of transportation, such as a motorcycle or a car, and make a list that stores several examples. Use your list to print a series of statements about these items, such as “I would like to own a Honda motorcycle.”"
   ]
  },
  {
   "cell_type": "code",
   "execution_count": 33,
   "metadata": {},
   "outputs": [
    {
     "name": "stdout",
     "output_type": "stream",
     "text": [
      "I would like to own a Honda City\n",
      "I would like to own a Hyndai Verna\n",
      "I would like to own a Maruti Suzuki Brezza\n",
      "I would like to own a Mahindra XUV 500\n"
     ]
    }
   ],
   "source": [
    "favorite_vehicles = ['Honda City', 'Hyndai Verna', 'Maruti Suzuki Brezza', 'Mahindra XUV 500']\n",
    "for vehicle in favorite_vehicles:\n",
    "    print('I would like to own a {fav_car}'.format(fav_car=vehicle))"
   ]
  },
  {
   "cell_type": "code",
   "execution_count": null,
   "metadata": {},
   "outputs": [],
   "source": []
  }
 ],
 "metadata": {
  "kernelspec": {
   "display_name": "Python 3",
   "language": "python",
   "name": "python3"
  },
  "language_info": {
   "codemirror_mode": {
    "name": "ipython",
    "version": 3
   },
   "file_extension": ".py",
   "mimetype": "text/x-python",
   "name": "python",
   "nbconvert_exporter": "python",
   "pygments_lexer": "ipython3",
   "version": "3.8.5"
  }
 },
 "nbformat": 4,
 "nbformat_minor": 4
}
